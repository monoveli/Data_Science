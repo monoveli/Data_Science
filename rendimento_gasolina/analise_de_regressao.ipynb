{
  "nbformat": 4,
  "nbformat_minor": 0,
  "metadata": {
    "colab": {
      "provenance": []
    },
    "kernelspec": {
      "name": "python3",
      "display_name": "Python 3"
    },
    "language_info": {
      "name": "python"
    }
  },
  "cells": [
    {
      "cell_type": "markdown",
      "source": [
        "Ajuste de um modelo de regressão linear simples que relaciona o o rendimento da gasolina **(y)** (Milhas por litro) e a cilindrada do motor **(x1)** (polegadas cúbicas).  Foi utilizado o dataset B.3, que contém dados sobre o rendimento de Gasolina, em milhas, de 32 automóveis diferentes.\n"
      ],
      "metadata": {
        "id": "zIdWaPBJIOvw"
      }
    },
    {
      "cell_type": "code",
      "execution_count": 74,
      "metadata": {
        "colab": {
          "base_uri": "https://localhost:8080/",
          "height": 206
        },
        "id": "JDhLhG_GFaCr",
        "outputId": "b5b955d3-edab-48f7-9fc5-48d6ba22a699"
      },
      "outputs": [
        {
          "output_type": "execute_result",
          "data": {
            "text/plain": [
              "       y     x1   x2     x3    x4    x5  x6  x7     x8    x9   x10  x11\n",
              "0  18.90  350.0  165  260.0  8.00  2.56   4   3  200.3  69.9  3910    1\n",
              "1  17.00  350.0  170  275.0  8.50  2.56   4   3  199.6  72.9  3860    1\n",
              "2  20.00  250.0  105  185.0  8.25  2.73   1   3  196.7  72.2  3510    1\n",
              "3  18.25  351.0  143  255.0  8.00  3.00   2   3  199.9  74.0  3890    1\n",
              "4  20.07  225.0   95  170.0  8.40  2.76   1   3  194.1  71.8  3365    0"
            ],
            "text/html": [
              "\n",
              "  <div id=\"df-736a2b14-3557-45c4-98ba-8b41ab03d152\" class=\"colab-df-container\">\n",
              "    <div>\n",
              "<style scoped>\n",
              "    .dataframe tbody tr th:only-of-type {\n",
              "        vertical-align: middle;\n",
              "    }\n",
              "\n",
              "    .dataframe tbody tr th {\n",
              "        vertical-align: top;\n",
              "    }\n",
              "\n",
              "    .dataframe thead th {\n",
              "        text-align: right;\n",
              "    }\n",
              "</style>\n",
              "<table border=\"1\" class=\"dataframe\">\n",
              "  <thead>\n",
              "    <tr style=\"text-align: right;\">\n",
              "      <th></th>\n",
              "      <th>y</th>\n",
              "      <th>x1</th>\n",
              "      <th>x2</th>\n",
              "      <th>x3</th>\n",
              "      <th>x4</th>\n",
              "      <th>x5</th>\n",
              "      <th>x6</th>\n",
              "      <th>x7</th>\n",
              "      <th>x8</th>\n",
              "      <th>x9</th>\n",
              "      <th>x10</th>\n",
              "      <th>x11</th>\n",
              "    </tr>\n",
              "  </thead>\n",
              "  <tbody>\n",
              "    <tr>\n",
              "      <th>0</th>\n",
              "      <td>18.90</td>\n",
              "      <td>350.0</td>\n",
              "      <td>165</td>\n",
              "      <td>260.0</td>\n",
              "      <td>8.00</td>\n",
              "      <td>2.56</td>\n",
              "      <td>4</td>\n",
              "      <td>3</td>\n",
              "      <td>200.3</td>\n",
              "      <td>69.9</td>\n",
              "      <td>3910</td>\n",
              "      <td>1</td>\n",
              "    </tr>\n",
              "    <tr>\n",
              "      <th>1</th>\n",
              "      <td>17.00</td>\n",
              "      <td>350.0</td>\n",
              "      <td>170</td>\n",
              "      <td>275.0</td>\n",
              "      <td>8.50</td>\n",
              "      <td>2.56</td>\n",
              "      <td>4</td>\n",
              "      <td>3</td>\n",
              "      <td>199.6</td>\n",
              "      <td>72.9</td>\n",
              "      <td>3860</td>\n",
              "      <td>1</td>\n",
              "    </tr>\n",
              "    <tr>\n",
              "      <th>2</th>\n",
              "      <td>20.00</td>\n",
              "      <td>250.0</td>\n",
              "      <td>105</td>\n",
              "      <td>185.0</td>\n",
              "      <td>8.25</td>\n",
              "      <td>2.73</td>\n",
              "      <td>1</td>\n",
              "      <td>3</td>\n",
              "      <td>196.7</td>\n",
              "      <td>72.2</td>\n",
              "      <td>3510</td>\n",
              "      <td>1</td>\n",
              "    </tr>\n",
              "    <tr>\n",
              "      <th>3</th>\n",
              "      <td>18.25</td>\n",
              "      <td>351.0</td>\n",
              "      <td>143</td>\n",
              "      <td>255.0</td>\n",
              "      <td>8.00</td>\n",
              "      <td>3.00</td>\n",
              "      <td>2</td>\n",
              "      <td>3</td>\n",
              "      <td>199.9</td>\n",
              "      <td>74.0</td>\n",
              "      <td>3890</td>\n",
              "      <td>1</td>\n",
              "    </tr>\n",
              "    <tr>\n",
              "      <th>4</th>\n",
              "      <td>20.07</td>\n",
              "      <td>225.0</td>\n",
              "      <td>95</td>\n",
              "      <td>170.0</td>\n",
              "      <td>8.40</td>\n",
              "      <td>2.76</td>\n",
              "      <td>1</td>\n",
              "      <td>3</td>\n",
              "      <td>194.1</td>\n",
              "      <td>71.8</td>\n",
              "      <td>3365</td>\n",
              "      <td>0</td>\n",
              "    </tr>\n",
              "  </tbody>\n",
              "</table>\n",
              "</div>\n",
              "    <div class=\"colab-df-buttons\">\n",
              "\n",
              "  <div class=\"colab-df-container\">\n",
              "    <button class=\"colab-df-convert\" onclick=\"convertToInteractive('df-736a2b14-3557-45c4-98ba-8b41ab03d152')\"\n",
              "            title=\"Convert this dataframe to an interactive table.\"\n",
              "            style=\"display:none;\">\n",
              "\n",
              "  <svg xmlns=\"http://www.w3.org/2000/svg\" height=\"24px\" viewBox=\"0 -960 960 960\">\n",
              "    <path d=\"M120-120v-720h720v720H120Zm60-500h600v-160H180v160Zm220 220h160v-160H400v160Zm0 220h160v-160H400v160ZM180-400h160v-160H180v160Zm440 0h160v-160H620v160ZM180-180h160v-160H180v160Zm440 0h160v-160H620v160Z\"/>\n",
              "  </svg>\n",
              "    </button>\n",
              "\n",
              "  <style>\n",
              "    .colab-df-container {\n",
              "      display:flex;\n",
              "      gap: 12px;\n",
              "    }\n",
              "\n",
              "    .colab-df-convert {\n",
              "      background-color: #E8F0FE;\n",
              "      border: none;\n",
              "      border-radius: 50%;\n",
              "      cursor: pointer;\n",
              "      display: none;\n",
              "      fill: #1967D2;\n",
              "      height: 32px;\n",
              "      padding: 0 0 0 0;\n",
              "      width: 32px;\n",
              "    }\n",
              "\n",
              "    .colab-df-convert:hover {\n",
              "      background-color: #E2EBFA;\n",
              "      box-shadow: 0px 1px 2px rgba(60, 64, 67, 0.3), 0px 1px 3px 1px rgba(60, 64, 67, 0.15);\n",
              "      fill: #174EA6;\n",
              "    }\n",
              "\n",
              "    .colab-df-buttons div {\n",
              "      margin-bottom: 4px;\n",
              "    }\n",
              "\n",
              "    [theme=dark] .colab-df-convert {\n",
              "      background-color: #3B4455;\n",
              "      fill: #D2E3FC;\n",
              "    }\n",
              "\n",
              "    [theme=dark] .colab-df-convert:hover {\n",
              "      background-color: #434B5C;\n",
              "      box-shadow: 0px 1px 3px 1px rgba(0, 0, 0, 0.15);\n",
              "      filter: drop-shadow(0px 1px 2px rgba(0, 0, 0, 0.3));\n",
              "      fill: #FFFFFF;\n",
              "    }\n",
              "  </style>\n",
              "\n",
              "    <script>\n",
              "      const buttonEl =\n",
              "        document.querySelector('#df-736a2b14-3557-45c4-98ba-8b41ab03d152 button.colab-df-convert');\n",
              "      buttonEl.style.display =\n",
              "        google.colab.kernel.accessAllowed ? 'block' : 'none';\n",
              "\n",
              "      async function convertToInteractive(key) {\n",
              "        const element = document.querySelector('#df-736a2b14-3557-45c4-98ba-8b41ab03d152');\n",
              "        const dataTable =\n",
              "          await google.colab.kernel.invokeFunction('convertToInteractive',\n",
              "                                                    [key], {});\n",
              "        if (!dataTable) return;\n",
              "\n",
              "        const docLinkHtml = 'Like what you see? Visit the ' +\n",
              "          '<a target=\"_blank\" href=https://colab.research.google.com/notebooks/data_table.ipynb>data table notebook</a>'\n",
              "          + ' to learn more about interactive tables.';\n",
              "        element.innerHTML = '';\n",
              "        dataTable['output_type'] = 'display_data';\n",
              "        await google.colab.output.renderOutput(dataTable, element);\n",
              "        const docLink = document.createElement('div');\n",
              "        docLink.innerHTML = docLinkHtml;\n",
              "        element.appendChild(docLink);\n",
              "      }\n",
              "    </script>\n",
              "  </div>\n",
              "\n",
              "\n",
              "<div id=\"df-11363073-edd0-4654-8b98-06658379d30c\">\n",
              "  <button class=\"colab-df-quickchart\" onclick=\"quickchart('df-11363073-edd0-4654-8b98-06658379d30c')\"\n",
              "            title=\"Suggest charts\"\n",
              "            style=\"display:none;\">\n",
              "\n",
              "<svg xmlns=\"http://www.w3.org/2000/svg\" height=\"24px\"viewBox=\"0 0 24 24\"\n",
              "     width=\"24px\">\n",
              "    <g>\n",
              "        <path d=\"M19 3H5c-1.1 0-2 .9-2 2v14c0 1.1.9 2 2 2h14c1.1 0 2-.9 2-2V5c0-1.1-.9-2-2-2zM9 17H7v-7h2v7zm4 0h-2V7h2v10zm4 0h-2v-4h2v4z\"/>\n",
              "    </g>\n",
              "</svg>\n",
              "  </button>\n",
              "\n",
              "<style>\n",
              "  .colab-df-quickchart {\n",
              "      --bg-color: #E8F0FE;\n",
              "      --fill-color: #1967D2;\n",
              "      --hover-bg-color: #E2EBFA;\n",
              "      --hover-fill-color: #174EA6;\n",
              "      --disabled-fill-color: #AAA;\n",
              "      --disabled-bg-color: #DDD;\n",
              "  }\n",
              "\n",
              "  [theme=dark] .colab-df-quickchart {\n",
              "      --bg-color: #3B4455;\n",
              "      --fill-color: #D2E3FC;\n",
              "      --hover-bg-color: #434B5C;\n",
              "      --hover-fill-color: #FFFFFF;\n",
              "      --disabled-bg-color: #3B4455;\n",
              "      --disabled-fill-color: #666;\n",
              "  }\n",
              "\n",
              "  .colab-df-quickchart {\n",
              "    background-color: var(--bg-color);\n",
              "    border: none;\n",
              "    border-radius: 50%;\n",
              "    cursor: pointer;\n",
              "    display: none;\n",
              "    fill: var(--fill-color);\n",
              "    height: 32px;\n",
              "    padding: 0;\n",
              "    width: 32px;\n",
              "  }\n",
              "\n",
              "  .colab-df-quickchart:hover {\n",
              "    background-color: var(--hover-bg-color);\n",
              "    box-shadow: 0 1px 2px rgba(60, 64, 67, 0.3), 0 1px 3px 1px rgba(60, 64, 67, 0.15);\n",
              "    fill: var(--button-hover-fill-color);\n",
              "  }\n",
              "\n",
              "  .colab-df-quickchart-complete:disabled,\n",
              "  .colab-df-quickchart-complete:disabled:hover {\n",
              "    background-color: var(--disabled-bg-color);\n",
              "    fill: var(--disabled-fill-color);\n",
              "    box-shadow: none;\n",
              "  }\n",
              "\n",
              "  .colab-df-spinner {\n",
              "    border: 2px solid var(--fill-color);\n",
              "    border-color: transparent;\n",
              "    border-bottom-color: var(--fill-color);\n",
              "    animation:\n",
              "      spin 1s steps(1) infinite;\n",
              "  }\n",
              "\n",
              "  @keyframes spin {\n",
              "    0% {\n",
              "      border-color: transparent;\n",
              "      border-bottom-color: var(--fill-color);\n",
              "      border-left-color: var(--fill-color);\n",
              "    }\n",
              "    20% {\n",
              "      border-color: transparent;\n",
              "      border-left-color: var(--fill-color);\n",
              "      border-top-color: var(--fill-color);\n",
              "    }\n",
              "    30% {\n",
              "      border-color: transparent;\n",
              "      border-left-color: var(--fill-color);\n",
              "      border-top-color: var(--fill-color);\n",
              "      border-right-color: var(--fill-color);\n",
              "    }\n",
              "    40% {\n",
              "      border-color: transparent;\n",
              "      border-right-color: var(--fill-color);\n",
              "      border-top-color: var(--fill-color);\n",
              "    }\n",
              "    60% {\n",
              "      border-color: transparent;\n",
              "      border-right-color: var(--fill-color);\n",
              "    }\n",
              "    80% {\n",
              "      border-color: transparent;\n",
              "      border-right-color: var(--fill-color);\n",
              "      border-bottom-color: var(--fill-color);\n",
              "    }\n",
              "    90% {\n",
              "      border-color: transparent;\n",
              "      border-bottom-color: var(--fill-color);\n",
              "    }\n",
              "  }\n",
              "</style>\n",
              "\n",
              "  <script>\n",
              "    async function quickchart(key) {\n",
              "      const quickchartButtonEl =\n",
              "        document.querySelector('#' + key + ' button');\n",
              "      quickchartButtonEl.disabled = true;  // To prevent multiple clicks.\n",
              "      quickchartButtonEl.classList.add('colab-df-spinner');\n",
              "      try {\n",
              "        const charts = await google.colab.kernel.invokeFunction(\n",
              "            'suggestCharts', [key], {});\n",
              "      } catch (error) {\n",
              "        console.error('Error during call to suggestCharts:', error);\n",
              "      }\n",
              "      quickchartButtonEl.classList.remove('colab-df-spinner');\n",
              "      quickchartButtonEl.classList.add('colab-df-quickchart-complete');\n",
              "    }\n",
              "    (() => {\n",
              "      let quickchartButtonEl =\n",
              "        document.querySelector('#df-11363073-edd0-4654-8b98-06658379d30c button');\n",
              "      quickchartButtonEl.style.display =\n",
              "        google.colab.kernel.accessAllowed ? 'block' : 'none';\n",
              "    })();\n",
              "  </script>\n",
              "</div>\n",
              "\n",
              "    </div>\n",
              "  </div>\n"
            ]
          },
          "metadata": {},
          "execution_count": 74
        }
      ],
      "source": [
        "# importação dos módulos e leitura dos dados\n",
        "\n",
        "import pandas as pd\n",
        "from tabulate import tabulate\n",
        "import numpy as np\n",
        "from sklearn.model_selection import train_test_split\n",
        "import matplotlib.pyplot as plt\n",
        "import seaborn as sns\n",
        "import scipy.stats as stats\n",
        "\n",
        "\n",
        "dados = pd.read_csv(\"data-table-B3.csv\", decimal=\",\")\n",
        "dados.head()"
      ]
    },
    {
      "cell_type": "code",
      "source": [
        "# verificando presença de NaN\n",
        "dados.isna().sum()"
      ],
      "metadata": {
        "colab": {
          "base_uri": "https://localhost:8080/"
        },
        "id": "yZ5im4PV8j54",
        "outputId": "2023d9b1-1ebe-489c-e201-4075bc40d11f"
      },
      "execution_count": 75,
      "outputs": [
        {
          "output_type": "execute_result",
          "data": {
            "text/plain": [
              "y      0\n",
              "x1     0\n",
              "x2     0\n",
              "x3     2\n",
              "x4     0\n",
              "x5     0\n",
              "x6     0\n",
              "x7     0\n",
              "x8     0\n",
              "x9     0\n",
              "x10    0\n",
              "x11    0\n",
              "dtype: int64"
            ]
          },
          "metadata": {},
          "execution_count": 75
        }
      ]
    },
    {
      "cell_type": "code",
      "source": [
        "# separando nossa base em treino e teste, e selecionando as variáveis\n",
        "\n",
        "X_train, X_test, y_train, y_test = train_test_split(dados['x1'], dados['y'], train_size=0.875,random_state = 42)"
      ],
      "metadata": {
        "id": "NQhIOTsIF9g5"
      },
      "execution_count": 4,
      "outputs": []
    },
    {
      "cell_type": "markdown",
      "source": [
        "## Descrição do banco de dados\n"
      ],
      "metadata": {
        "id": "zo0ytaRyHjfA"
      }
    },
    {
      "cell_type": "code",
      "source": [
        "# verificando as principais medidas descritivas\n",
        "# temos 12 features e ajustaremos o modelo com base na feature x1\n",
        "\n",
        "dados.filter([\"y\", \"x1\"]).describe()"
      ],
      "metadata": {
        "colab": {
          "base_uri": "https://localhost:8080/",
          "height": 300
        },
        "id": "93KCiUJOHgI_",
        "outputId": "c5f11dc5-15c3-404b-8856-bc260620cb1e"
      },
      "execution_count": 5,
      "outputs": [
        {
          "output_type": "execute_result",
          "data": {
            "text/plain": [
              "               y          x1\n",
              "count  32.000000   32.000000\n",
              "mean   20.223125  285.043750\n",
              "std     6.318289  117.240214\n",
              "min    11.200000   85.300000\n",
              "25%    16.477500  211.500000\n",
              "50%    19.300000  318.000000\n",
              "75%    21.655000  353.250000\n",
              "max    36.500000  500.000000"
            ],
            "text/html": [
              "\n",
              "  <div id=\"df-3a68d1ce-8183-4e8c-b256-d835c943a6af\" class=\"colab-df-container\">\n",
              "    <div>\n",
              "<style scoped>\n",
              "    .dataframe tbody tr th:only-of-type {\n",
              "        vertical-align: middle;\n",
              "    }\n",
              "\n",
              "    .dataframe tbody tr th {\n",
              "        vertical-align: top;\n",
              "    }\n",
              "\n",
              "    .dataframe thead th {\n",
              "        text-align: right;\n",
              "    }\n",
              "</style>\n",
              "<table border=\"1\" class=\"dataframe\">\n",
              "  <thead>\n",
              "    <tr style=\"text-align: right;\">\n",
              "      <th></th>\n",
              "      <th>y</th>\n",
              "      <th>x1</th>\n",
              "    </tr>\n",
              "  </thead>\n",
              "  <tbody>\n",
              "    <tr>\n",
              "      <th>count</th>\n",
              "      <td>32.000000</td>\n",
              "      <td>32.000000</td>\n",
              "    </tr>\n",
              "    <tr>\n",
              "      <th>mean</th>\n",
              "      <td>20.223125</td>\n",
              "      <td>285.043750</td>\n",
              "    </tr>\n",
              "    <tr>\n",
              "      <th>std</th>\n",
              "      <td>6.318289</td>\n",
              "      <td>117.240214</td>\n",
              "    </tr>\n",
              "    <tr>\n",
              "      <th>min</th>\n",
              "      <td>11.200000</td>\n",
              "      <td>85.300000</td>\n",
              "    </tr>\n",
              "    <tr>\n",
              "      <th>25%</th>\n",
              "      <td>16.477500</td>\n",
              "      <td>211.500000</td>\n",
              "    </tr>\n",
              "    <tr>\n",
              "      <th>50%</th>\n",
              "      <td>19.300000</td>\n",
              "      <td>318.000000</td>\n",
              "    </tr>\n",
              "    <tr>\n",
              "      <th>75%</th>\n",
              "      <td>21.655000</td>\n",
              "      <td>353.250000</td>\n",
              "    </tr>\n",
              "    <tr>\n",
              "      <th>max</th>\n",
              "      <td>36.500000</td>\n",
              "      <td>500.000000</td>\n",
              "    </tr>\n",
              "  </tbody>\n",
              "</table>\n",
              "</div>\n",
              "    <div class=\"colab-df-buttons\">\n",
              "\n",
              "  <div class=\"colab-df-container\">\n",
              "    <button class=\"colab-df-convert\" onclick=\"convertToInteractive('df-3a68d1ce-8183-4e8c-b256-d835c943a6af')\"\n",
              "            title=\"Convert this dataframe to an interactive table.\"\n",
              "            style=\"display:none;\">\n",
              "\n",
              "  <svg xmlns=\"http://www.w3.org/2000/svg\" height=\"24px\" viewBox=\"0 -960 960 960\">\n",
              "    <path d=\"M120-120v-720h720v720H120Zm60-500h600v-160H180v160Zm220 220h160v-160H400v160Zm0 220h160v-160H400v160ZM180-400h160v-160H180v160Zm440 0h160v-160H620v160ZM180-180h160v-160H180v160Zm440 0h160v-160H620v160Z\"/>\n",
              "  </svg>\n",
              "    </button>\n",
              "\n",
              "  <style>\n",
              "    .colab-df-container {\n",
              "      display:flex;\n",
              "      gap: 12px;\n",
              "    }\n",
              "\n",
              "    .colab-df-convert {\n",
              "      background-color: #E8F0FE;\n",
              "      border: none;\n",
              "      border-radius: 50%;\n",
              "      cursor: pointer;\n",
              "      display: none;\n",
              "      fill: #1967D2;\n",
              "      height: 32px;\n",
              "      padding: 0 0 0 0;\n",
              "      width: 32px;\n",
              "    }\n",
              "\n",
              "    .colab-df-convert:hover {\n",
              "      background-color: #E2EBFA;\n",
              "      box-shadow: 0px 1px 2px rgba(60, 64, 67, 0.3), 0px 1px 3px 1px rgba(60, 64, 67, 0.15);\n",
              "      fill: #174EA6;\n",
              "    }\n",
              "\n",
              "    .colab-df-buttons div {\n",
              "      margin-bottom: 4px;\n",
              "    }\n",
              "\n",
              "    [theme=dark] .colab-df-convert {\n",
              "      background-color: #3B4455;\n",
              "      fill: #D2E3FC;\n",
              "    }\n",
              "\n",
              "    [theme=dark] .colab-df-convert:hover {\n",
              "      background-color: #434B5C;\n",
              "      box-shadow: 0px 1px 3px 1px rgba(0, 0, 0, 0.15);\n",
              "      filter: drop-shadow(0px 1px 2px rgba(0, 0, 0, 0.3));\n",
              "      fill: #FFFFFF;\n",
              "    }\n",
              "  </style>\n",
              "\n",
              "    <script>\n",
              "      const buttonEl =\n",
              "        document.querySelector('#df-3a68d1ce-8183-4e8c-b256-d835c943a6af button.colab-df-convert');\n",
              "      buttonEl.style.display =\n",
              "        google.colab.kernel.accessAllowed ? 'block' : 'none';\n",
              "\n",
              "      async function convertToInteractive(key) {\n",
              "        const element = document.querySelector('#df-3a68d1ce-8183-4e8c-b256-d835c943a6af');\n",
              "        const dataTable =\n",
              "          await google.colab.kernel.invokeFunction('convertToInteractive',\n",
              "                                                    [key], {});\n",
              "        if (!dataTable) return;\n",
              "\n",
              "        const docLinkHtml = 'Like what you see? Visit the ' +\n",
              "          '<a target=\"_blank\" href=https://colab.research.google.com/notebooks/data_table.ipynb>data table notebook</a>'\n",
              "          + ' to learn more about interactive tables.';\n",
              "        element.innerHTML = '';\n",
              "        dataTable['output_type'] = 'display_data';\n",
              "        await google.colab.output.renderOutput(dataTable, element);\n",
              "        const docLink = document.createElement('div');\n",
              "        docLink.innerHTML = docLinkHtml;\n",
              "        element.appendChild(docLink);\n",
              "      }\n",
              "    </script>\n",
              "  </div>\n",
              "\n",
              "\n",
              "<div id=\"df-ac97b521-46ac-41de-b913-16e3a7ca1dc7\">\n",
              "  <button class=\"colab-df-quickchart\" onclick=\"quickchart('df-ac97b521-46ac-41de-b913-16e3a7ca1dc7')\"\n",
              "            title=\"Suggest charts\"\n",
              "            style=\"display:none;\">\n",
              "\n",
              "<svg xmlns=\"http://www.w3.org/2000/svg\" height=\"24px\"viewBox=\"0 0 24 24\"\n",
              "     width=\"24px\">\n",
              "    <g>\n",
              "        <path d=\"M19 3H5c-1.1 0-2 .9-2 2v14c0 1.1.9 2 2 2h14c1.1 0 2-.9 2-2V5c0-1.1-.9-2-2-2zM9 17H7v-7h2v7zm4 0h-2V7h2v10zm4 0h-2v-4h2v4z\"/>\n",
              "    </g>\n",
              "</svg>\n",
              "  </button>\n",
              "\n",
              "<style>\n",
              "  .colab-df-quickchart {\n",
              "      --bg-color: #E8F0FE;\n",
              "      --fill-color: #1967D2;\n",
              "      --hover-bg-color: #E2EBFA;\n",
              "      --hover-fill-color: #174EA6;\n",
              "      --disabled-fill-color: #AAA;\n",
              "      --disabled-bg-color: #DDD;\n",
              "  }\n",
              "\n",
              "  [theme=dark] .colab-df-quickchart {\n",
              "      --bg-color: #3B4455;\n",
              "      --fill-color: #D2E3FC;\n",
              "      --hover-bg-color: #434B5C;\n",
              "      --hover-fill-color: #FFFFFF;\n",
              "      --disabled-bg-color: #3B4455;\n",
              "      --disabled-fill-color: #666;\n",
              "  }\n",
              "\n",
              "  .colab-df-quickchart {\n",
              "    background-color: var(--bg-color);\n",
              "    border: none;\n",
              "    border-radius: 50%;\n",
              "    cursor: pointer;\n",
              "    display: none;\n",
              "    fill: var(--fill-color);\n",
              "    height: 32px;\n",
              "    padding: 0;\n",
              "    width: 32px;\n",
              "  }\n",
              "\n",
              "  .colab-df-quickchart:hover {\n",
              "    background-color: var(--hover-bg-color);\n",
              "    box-shadow: 0 1px 2px rgba(60, 64, 67, 0.3), 0 1px 3px 1px rgba(60, 64, 67, 0.15);\n",
              "    fill: var(--button-hover-fill-color);\n",
              "  }\n",
              "\n",
              "  .colab-df-quickchart-complete:disabled,\n",
              "  .colab-df-quickchart-complete:disabled:hover {\n",
              "    background-color: var(--disabled-bg-color);\n",
              "    fill: var(--disabled-fill-color);\n",
              "    box-shadow: none;\n",
              "  }\n",
              "\n",
              "  .colab-df-spinner {\n",
              "    border: 2px solid var(--fill-color);\n",
              "    border-color: transparent;\n",
              "    border-bottom-color: var(--fill-color);\n",
              "    animation:\n",
              "      spin 1s steps(1) infinite;\n",
              "  }\n",
              "\n",
              "  @keyframes spin {\n",
              "    0% {\n",
              "      border-color: transparent;\n",
              "      border-bottom-color: var(--fill-color);\n",
              "      border-left-color: var(--fill-color);\n",
              "    }\n",
              "    20% {\n",
              "      border-color: transparent;\n",
              "      border-left-color: var(--fill-color);\n",
              "      border-top-color: var(--fill-color);\n",
              "    }\n",
              "    30% {\n",
              "      border-color: transparent;\n",
              "      border-left-color: var(--fill-color);\n",
              "      border-top-color: var(--fill-color);\n",
              "      border-right-color: var(--fill-color);\n",
              "    }\n",
              "    40% {\n",
              "      border-color: transparent;\n",
              "      border-right-color: var(--fill-color);\n",
              "      border-top-color: var(--fill-color);\n",
              "    }\n",
              "    60% {\n",
              "      border-color: transparent;\n",
              "      border-right-color: var(--fill-color);\n",
              "    }\n",
              "    80% {\n",
              "      border-color: transparent;\n",
              "      border-right-color: var(--fill-color);\n",
              "      border-bottom-color: var(--fill-color);\n",
              "    }\n",
              "    90% {\n",
              "      border-color: transparent;\n",
              "      border-bottom-color: var(--fill-color);\n",
              "    }\n",
              "  }\n",
              "</style>\n",
              "\n",
              "  <script>\n",
              "    async function quickchart(key) {\n",
              "      const quickchartButtonEl =\n",
              "        document.querySelector('#' + key + ' button');\n",
              "      quickchartButtonEl.disabled = true;  // To prevent multiple clicks.\n",
              "      quickchartButtonEl.classList.add('colab-df-spinner');\n",
              "      try {\n",
              "        const charts = await google.colab.kernel.invokeFunction(\n",
              "            'suggestCharts', [key], {});\n",
              "      } catch (error) {\n",
              "        console.error('Error during call to suggestCharts:', error);\n",
              "      }\n",
              "      quickchartButtonEl.classList.remove('colab-df-spinner');\n",
              "      quickchartButtonEl.classList.add('colab-df-quickchart-complete');\n",
              "    }\n",
              "    (() => {\n",
              "      let quickchartButtonEl =\n",
              "        document.querySelector('#df-ac97b521-46ac-41de-b913-16e3a7ca1dc7 button');\n",
              "      quickchartButtonEl.style.display =\n",
              "        google.colab.kernel.accessAllowed ? 'block' : 'none';\n",
              "    })();\n",
              "  </script>\n",
              "</div>\n",
              "\n",
              "    </div>\n",
              "  </div>\n"
            ]
          },
          "metadata": {},
          "execution_count": 5
        }
      ]
    },
    {
      "cell_type": "markdown",
      "source": [
        "## Análise Exploratória Básica"
      ],
      "metadata": {
        "id": "O2trUXjc9yDO"
      }
    },
    {
      "cell_type": "code",
      "source": [
        "# criando um gráfico de dispersão para as variáveis x1 e y\n",
        "plt.figure(figsize=(10, 6))\n",
        "sns.scatterplot(data=dados, x=\"x1\", y=\"y\")\n",
        "\n",
        "plt.title(\"Cilindradas vs Rendimento\", size=20, ha=\"center\")\n",
        "plt.xlabel(\"cc/pol.c\", size=16)\n",
        "plt.ylabel(\"Rendimento (mi / L)\", size=16)\n",
        "plt.tight_layout()\n",
        "\n",
        "\n",
        "plt.show()"
      ],
      "metadata": {
        "colab": {
          "base_uri": "https://localhost:8080/",
          "height": 607
        },
        "id": "sXJdFJ_JHplH",
        "outputId": "5a46b58e-3c5b-49bf-f5f9-29933a81edff"
      },
      "execution_count": 6,
      "outputs": [
        {
          "output_type": "display_data",
          "data": {
            "text/plain": [
              "<Figure size 1000x600 with 1 Axes>"
            ],
            "image/png": "[encoded data removed]"
          },
          "metadata": {}
        }
      ]
    },
    {
      "cell_type": "markdown",
      "source": [
        "A partir do gráfico de dispersão acima parece que existe uma relação linear entre as variáveis x1 e y. Essa relação pode ser verificada a partir do coeficiente de Pearson ρ.\n"
      ],
      "metadata": {
        "id": "lxNxyIW0Iwdw"
      }
    },
    {
      "cell_type": "code",
      "source": [
        "correlacao, p_valor = stats.pearsonr(dados[\"x1\"], dados[\"y\"])\n",
        "\n",
        "print(\"Correlação:\", correlacao)\n",
        "print(\"P-valor:\", p_valor)"
      ],
      "metadata": {
        "colab": {
          "base_uri": "https://localhost:8080/"
        },
        "id": "qT_BA0PQIuQY",
        "outputId": "3557cb9b-528e-475b-a1b2-986077b2b24e"
      },
      "execution_count": 76,
      "outputs": [
        {
          "output_type": "stream",
          "name": "stdout",
          "text": [
            "Correlação: -0.8787896462296565\n",
            "P-valor: 3.7430411752445877e-11\n"
          ]
        }
      ]
    },
    {
      "cell_type": "markdown",
      "source": [
        "O teste de correlação de Person resultou em um ρ = − 0.87 o que indica uma forte correlação negati entre as variáveis.\n",
        "\n",
        "O objetivo é estimar a influência de x1 sobre y, ou seja, como y varia em relação às variações em x1."
      ],
      "metadata": {
        "id": "wzIke5BXJI8H"
      }
    },
    {
      "cell_type": "code",
      "source": [
        "# visualizando a distribuição de valores de x1\n",
        "plt.figure(figsize=(10, 6))\n",
        "\n",
        "plt.subplot(1, 2, 1)\n",
        "sns.boxplot(y=\"x1\", data=dados, color=\"blue\")\n",
        "plt.title(\"Boxplot da Variável X1\", size=15, ha=\"center\")\n",
        "plt.xlabel(\"\")\n",
        "plt.ylabel(\"Cilíndradas por Polegada Cúbica\")\n",
        "plt.plot(dados[\"x1\"].mean(), marker=\"o\", markersize=5, color=\"red\", fillstyle=\"full\")\n",
        "\n",
        "plt.subplot(1, 2, 2)\n",
        "sns.stripplot(y=\"x1\", data=dados, color=\"black\", size=10, alpha=0.9, jitter=True)\n",
        "plt.title(\"Stripplot da Variável X1\", size=15, ha=\"center\")\n",
        "plt.xlabel(\"\")\n",
        "plt.ylabel(\"Cilíndradas por Polegada Cúbica\")\n",
        "plt.plot(dados[\"x1\"].mean(), marker=\"o\", markersize=5, color=\"red\", fillstyle=\"full\")\n",
        "\n",
        "plt.tight_layout()\n",
        "plt.show()"
      ],
      "metadata": {
        "colab": {
          "base_uri": "https://localhost:8080/",
          "height": 601
        },
        "id": "rQwQaQ8XJLYn",
        "outputId": "fdaf1755-3b9b-45cf-8767-96e64137169c"
      },
      "execution_count": 77,
      "outputs": [
        {
          "output_type": "display_data",
          "data": {
            "text/plain": [
              "<Figure size 1000x600 with 2 Axes>"
            ],
            "image/png": "[encoded data removed]"
          },
          "metadata": {}
        }
      ]
    },
    {
      "cell_type": "markdown",
      "source": [
        "Podemos perceber a partir do boxplot acima que 50% dos carros tem menos de 318 cilíndradas.\n"
      ],
      "metadata": {
        "id": "7qHVTaCTLl0-"
      }
    },
    {
      "cell_type": "code",
      "source": [
        "# visualizando a distribuição de valores de y\n",
        "plt.figure(figsize=(10, 6))\n",
        "\n",
        "plt.subplot(1, 2, 1)\n",
        "sns.boxplot(y=\"y\", data=dados, color=\"blue\")\n",
        "plt.title(\"Boxplot da Variável Y\", size=15, ha=\"center\")\n",
        "plt.xlabel(\"\")\n",
        "plt.ylabel(\"Consumo de Combustível (L/100km)\")\n",
        "\n",
        "\n",
        "plt.subplot(1, 2, 2)\n",
        "sns.stripplot(y=\"y\", data=dados, color=\"black\", size=10, alpha=0.9, jitter=True)\n",
        "plt.title(\"Stripplot da Variável Y\", size=15, ha=\"center\")\n",
        "plt.xlabel(\"\")\n",
        "plt.ylabel(\"Consumo de Combustível (L/100km)\")\n",
        "\n",
        "plt.tight_layout()\n",
        "plt.show()"
      ],
      "metadata": {
        "colab": {
          "base_uri": "https://localhost:8080/",
          "height": 600
        },
        "id": "DS_2XIDXLlc-",
        "outputId": "fa08351d-b73d-4967-a084-01cd8d0301f0"
      },
      "execution_count": 78,
      "outputs": [
        {
          "output_type": "display_data",
          "data": {
            "text/plain": [
              "<Figure size 1000x600 with 2 Axes>"
            ],
            "image/png": "[encoded data removed]"
          },
          "metadata": {}
        }
      ]
    },
    {
      "cell_type": "markdown",
      "source": [
        "Pelo boxplot acima, percebemos que os dados da variável y parecem seguir uma distribuição normal - o que será confirmado com a análise de um histograma. Ainda, destaca-se quatro outliers, cujo rendimento é superior a 30 mi/L."
      ],
      "metadata": {
        "id": "PH_OJeDeMxtO"
      }
    },
    {
      "cell_type": "code",
      "source": [
        "# visualizando a distribuição de valores de y por meio de um histograma\n",
        "plt.figure(figsize=(8, 6))\n",
        "plt.hist(dados[\"y\"], bins=10, color=\"blue\", edgecolor=\"black\")\n",
        "\n",
        "# adicionando linhas de média e mediana\n",
        "plt.axvline(dados[\"y\"].mean(), color=\"red\", linestyle=\"--\", label=\"Média\")\n",
        "plt.axvline(dados[\"y\"].median(), color=\"green\", linestyle=\"--\", label=\"Mediana\")\n",
        "\n",
        "plt.title(\"Histograma da Variável Y\", size=15, ha=\"center\")\n",
        "plt.xlabel(\"Consumo de Combustível (L/100km)\")\n",
        "plt.ylabel(\"Frequência relativa\")\n",
        "plt.legend()\n",
        "plt.tight_layout()\n",
        "plt.show()"
      ],
      "metadata": {
        "colab": {
          "base_uri": "https://localhost:8080/",
          "height": 607
        },
        "id": "qz0x9S22Mycm",
        "outputId": "68f9397f-3ff7-468b-9511-7c37450313fd"
      },
      "execution_count": 10,
      "outputs": [
        {
          "output_type": "display_data",
          "data": {
            "text/plain": [
              "<Figure size 800x600 with 1 Axes>"
            ],
            "image/png": "[encoded data removed]"
          },
          "metadata": {}
        }
      ]
    },
    {
      "cell_type": "markdown",
      "source": [
        "O histograma acima representa a distribuição da variável y. Fica claro, portanto, que os dados da variável resposta se assemelham a uma distribuição normal, apesar dos outliers."
      ],
      "metadata": {
        "id": "ZSGHy8SvNlIu"
      }
    },
    {
      "cell_type": "code",
      "source": [
        "outliers = dados[dados['y'] > 30][['y', 'x1']]\n",
        "\n",
        "print(outliers)"
      ],
      "metadata": {
        "colab": {
          "base_uri": "https://localhost:8080/"
        },
        "id": "APoQm5OAOOE-",
        "outputId": "8264f71b-9439-4bff-f69a-a3886a405d26"
      },
      "execution_count": 11,
      "outputs": [
        {
          "output_type": "stream",
          "name": "stdout",
          "text": [
            "       y    x1\n",
            "8   34.7  89.7\n",
            "9   30.4  96.9\n",
            "11  36.5  85.3\n",
            "23  31.9  96.9\n"
          ]
        }
      ]
    },
    {
      "cell_type": "code",
      "source": [
        "# visualizando a distribuição de valores de x1 por meio de um histograma\n",
        "plt.figure(figsize=(8, 6))\n",
        "plt.hist(dados[\"x1\"], bins=10, color=\"blue\", edgecolor=\"black\")\n",
        "\n",
        "# adicionando linhas de média e mediana\n",
        "plt.axvline(dados[\"x1\"].mean(), color=\"red\", linestyle=\"--\", label=\"Média\")\n",
        "plt.axvline(dados[\"x1\"].median(), color=\"green\", linestyle=\"--\", label=\"Mediana\")\n",
        "\n",
        "plt.title(\"Histograma da Variável (X1)\", size=15, ha=\"center\")\n",
        "plt.xlabel(\"Cilíndradas por Polegada Cúbica\")\n",
        "plt.ylabel(\"Frequência relativa\")\n",
        "plt.legend()\n",
        "plt.tight_layout()\n",
        "plt.show()"
      ],
      "metadata": {
        "colab": {
          "base_uri": "https://localhost:8080/",
          "height": 607
        },
        "id": "REegAQFHOrcd",
        "outputId": "fefed874-523e-4729-a0c2-d8e8176b0ffa"
      },
      "execution_count": 12,
      "outputs": [
        {
          "output_type": "display_data",
          "data": {
            "text/plain": [
              "<Figure size 800x600 with 1 Axes>"
            ],
            "image/png": "[encoded data removed]"
          },
          "metadata": {}
        }
      ]
    },
    {
      "cell_type": "markdown",
      "source": [
        "O histograma da variável x1 não apresenta uma distribuição bem definida, entretanto, destaca-se maior frequência para os valores em torno de 350 cilíndradas.\n"
      ],
      "metadata": {
        "id": "vP9RUVXOPWVN"
      }
    },
    {
      "cell_type": "code",
      "source": [
        "moda = dados[\"x1\"].mode()\n",
        "print(moda)"
      ],
      "metadata": {
        "colab": {
          "base_uri": "https://localhost:8080/"
        },
        "id": "BUaHNaBZPUBP",
        "outputId": "f4b2c388-a0ea-4fc7-813c-fd0648391830"
      },
      "execution_count": 13,
      "outputs": [
        {
          "output_type": "stream",
          "name": "stdout",
          "text": [
            "0    350.0\n",
            "Name: x1, dtype: float64\n"
          ]
        }
      ]
    },
    {
      "cell_type": "markdown",
      "source": [
        "## Regressão linear"
      ],
      "metadata": {
        "id": "U7kLGXJPPgQN"
      }
    },
    {
      "cell_type": "markdown",
      "source": [
        "Cálculo de $S_{XX}$,$S_{YY}$ e $S_{XY}$"
      ],
      "metadata": {
        "id": "oasJpIQv__qN"
      }
    },
    {
      "cell_type": "code",
      "source": [
        "x_barra = X_train.mean()\n",
        "y_barra = y_train.mean()\n",
        "\n",
        "Sxx = np.sum((X_train - x_barra)**2)\n",
        "Syy = np.sum((y_train - y_barra)**2)\n",
        "Sxy = np.sum((X_train - x_barra) * (y_train - y_barra))\n",
        "\n",
        "\n",
        "results = pd.DataFrame({\"Sxx\": [Sxx], \"Syy\": [Syy], \"Sxy\": [Sxy]})\n",
        "print(results)"
      ],
      "metadata": {
        "colab": {
          "base_uri": "https://localhost:8080/"
        },
        "id": "5ABUyVNEQQq1",
        "outputId": "0085d4f2-26c0-43dc-f9fe-f0a44d5e8919"
      },
      "execution_count": 14,
      "outputs": [
        {
          "output_type": "stream",
          "name": "stdout",
          "text": [
            "             Sxx          Syy           Sxy\n",
            "0  376108.697143  1069.576186 -17504.592571\n"
          ]
        }
      ]
    },
    {
      "cell_type": "markdown",
      "source": [
        "### Estimação dos parâmetros\n",
        "$\\beta_{1} = S_{XY} /S_{XX}$\n",
        "\n",
        "Calculando o valor do coeficiente angular $\\beta_{1}$\n"
      ],
      "metadata": {
        "id": "9DNaRKF4TN9u"
      }
    },
    {
      "cell_type": "code",
      "source": [
        "b1_est = Sxy / Sxx\n",
        "\n",
        "print(b1_est)"
      ],
      "metadata": {
        "colab": {
          "base_uri": "https://localhost:8080/"
        },
        "id": "EGxXR0p0STnl",
        "outputId": "56d6d94e-965a-4f47-abc2-07c8512d5821"
      },
      "execution_count": 15,
      "outputs": [
        {
          "output_type": "stream",
          "name": "stdout",
          "text": [
            "-0.046541312935339564\n"
          ]
        }
      ]
    },
    {
      "cell_type": "markdown",
      "source": [
        "Calculando o valor do intercepto $\\beta_{0}$"
      ],
      "metadata": {
        "id": "XDVPHoXUAq63"
      }
    },
    {
      "cell_type": "code",
      "source": [
        "\\b0_est = y_barra - b1_est * x_barra\n",
        "\n",
        "print(b0_est)"
      ],
      "metadata": {
        "colab": {
          "base_uri": "https://localhost:8080/"
        },
        "id": "PJ5DjNhsTiYu",
        "outputId": "3263f5cf-f640-47ce-9215-4e2f29e2330b"
      },
      "execution_count": 16,
      "outputs": [
        {
          "output_type": "stream",
          "name": "stdout",
          "text": [
            "33.53273189139759\n"
          ]
        }
      ]
    },
    {
      "cell_type": "markdown",
      "source": [
        "Calculando o estimador de $\\sigma^2$ não viesado.\n",
        "Tal estimador é obtido através da soma do quadrado dos resíduos, definido pela variável QMres."
      ],
      "metadata": {
        "id": "u9JSHKL2TvQF"
      }
    },
    {
      "cell_type": "code",
      "source": [
        "# Soma do quadrado da regressão\n",
        "SQreg = b1_est * Sxy\n",
        "\n",
        "# Soma do quadrado total\n",
        "SQtotal = np.sum((y_train -  y_barra) ** 2)\n",
        "\n",
        "# Diferença entre a soma do quadrado da regressão e a soma do quadrado total\n",
        "SQres = SQtotal - SQreg\n",
        "\n",
        "# Soma do quadrado dos resíduos\n",
        "n = len(y_train)\n",
        "QMres = SQres / (n - 2)\n",
        "\n",
        "# Coeficiente de determinação\n",
        "Coef_Det = SQreg/SQtotal\n",
        "print(Coef_Det)"
      ],
      "metadata": {
        "colab": {
          "base_uri": "https://localhost:8080/"
        },
        "id": "JWBCxgr-Tvv9",
        "outputId": "972a0419-f572-453d-cbce-a5954c85b63c"
      },
      "execution_count": 17,
      "outputs": [
        {
          "output_type": "stream",
          "name": "stdout",
          "text": [
            "0.7616911553882553\n"
          ]
        }
      ]
    },
    {
      "cell_type": "code",
      "source": [
        "plt.figure(figsize=(10, 6))\n",
        "sns.scatterplot(data=dados, x=\"x1\", y=\"y\")\n",
        "\n",
        "# adiciona a linha de regressão linear\n",
        "sns.regplot(data=dados, x=\"x1\", y=\"y\", line_kws={\"color\": \"red\"})\n",
        "\n",
        "plt.title(\"Cilindradas vs Rendimento\", size=20, ha=\"center\")\n",
        "plt.xlabel(\"cc/pol.c\", size=16)\n",
        "plt.ylabel(\"Rendimento (mi / L)\", size=16)\n",
        "plt.tight_layout()\n",
        "\n",
        "\n",
        "plt.show()"
      ],
      "metadata": {
        "colab": {
          "base_uri": "https://localhost:8080/",
          "height": 607
        },
        "id": "O5rHv6-LZrts",
        "outputId": "2865b63b-88ac-4173-c01c-d641a4f83935"
      },
      "execution_count": 18,
      "outputs": [
        {
          "output_type": "display_data",
          "data": {
            "text/plain": [
              "<Figure size 1000x600 with 1 Axes>"
            ],
            "image/png": "[encoded data removed]"
          },
          "metadata": {}
        }
      ]
    },
    {
      "cell_type": "markdown",
      "source": [
        "Conforme revelado no resultado do coeficiente de determinação, o qual mostra a\n",
        "proporção em que a variação do rendimento de gasolina é explicada pelas cilindradas do motor, cujo resultado foi de aproximadamente 0.78, apresenta um valor próximo de 1, indicando assim uma boa correlação linear entre as variáveis dado que segundo esta análise, aproximadamente 78% da variação do\n",
        "rendimento de gasolina é explicada pelas cilindradas do motor.\n"
      ],
      "metadata": {
        "id": "qV0PQkT6Z7xd"
      }
    },
    {
      "cell_type": "markdown",
      "source": [
        "Pela estimação dos parâmetros temos que a reta ajustada é, aproximadamente:\n",
        "$\\hat{Y_{i}} = 24.35 − 0.018X_i$"
      ],
      "metadata": {
        "id": "oyHr5gqwaJOr"
      }
    },
    {
      "cell_type": "markdown",
      "source": [
        "O cálculo de $\\hat{Y}$ pode ser realizado utilizando o modelo de regressão linear simples, em que a variabilidade de interesse é dada em função de uma única covariável - no caso, x1"
      ],
      "metadata": {
        "id": "WXnIQh1Uaadc"
      }
    },
    {
      "cell_type": "code",
      "source": [
        "y_pred = b0_est + b1_est*X_train"
      ],
      "metadata": {
        "id": "IWJdk_9caIeT"
      },
      "execution_count": 19,
      "outputs": []
    },
    {
      "cell_type": "markdown",
      "source": [
        "Os resíduos se dão pelo desvio entre as observações e os valores preditos, sendo uma medida de variabilidade na variável resposta onde qualquer desvio relativo a suposição dos erros deveria aparecer. Analisá-los nos permite um discernimento maior em relação a quão adequado é o modelo. Fazendo uso do cálculo de ypred feito anteriormente, salvamos nossos resíduos em uma variável res abaixo."
      ],
      "metadata": {
        "id": "xWfiAXRRam6T"
      }
    },
    {
      "cell_type": "code",
      "source": [
        "res = y_train - y_pred"
      ],
      "metadata": {
        "id": "nLD1pcxCZ7G0"
      },
      "execution_count": 20,
      "outputs": []
    },
    {
      "cell_type": "code",
      "source": [
        "# visualizando o comportamento dos resíduos\n",
        "\n",
        "n_res = len(res)\n",
        "\n",
        "sns.set(style=\"whitegrid\")\n",
        "\n",
        "plt.figure(figsize=(8, 5))\n",
        "sns.histplot(res, kde=True, color='blue', bins=12)\n",
        "plt.xlabel(\"Resíduos\", labelpad=10)\n",
        "plt.ylabel(\"Frequência\", labelpad=10)\n",
        "plt.title(\"Histograma dos resíduos\", fontsize=16, pad=15)\n"
      ],
      "metadata": {
        "colab": {
          "base_uri": "https://localhost:8080/",
          "height": 537
        },
        "id": "LL5uIIRaakrL",
        "outputId": "9ad593b3-9f34-42e7-b4e7-ade2309ff515"
      },
      "execution_count": 21,
      "outputs": [
        {
          "output_type": "execute_result",
          "data": {
            "text/plain": [
              "Text(0.5, 1.0, 'Histograma dos resíduos')"
            ]
          },
          "metadata": {},
          "execution_count": 21
        },
        {
          "output_type": "display_data",
          "data": {
            "text/plain": [
              "<Figure size 800x500 with 1 Axes>"
            ],
            "image/png": "[encoded data removed]"
          },
          "metadata": {}
        }
      ]
    },
    {
      "cell_type": "code",
      "source": [
        "import statsmodels.graphics.gofplots as sm_graphics\n",
        "\n",
        "fig = sm_graphics.qqplot(res, line='45', fit=True, alpha=0.5)\n",
        "plt.title('QQ-Plot dos resíduos')\n",
        "plt.xlabel('Quantis teóricos')\n",
        "plt.ylabel('Quantis empíricos')\n",
        "\n",
        "plt.show()"
      ],
      "metadata": {
        "colab": {
          "base_uri": "https://localhost:8080/",
          "height": 480
        },
        "id": "3sWNijFISwM9",
        "outputId": "004f4400-963c-4b5f-a3fa-a8416575a59d"
      },
      "execution_count": 22,
      "outputs": [
        {
          "output_type": "display_data",
          "data": {
            "text/plain": [
              "<Figure size 640x480 with 1 Axes>"
            ],
            "image/png": "[encoded data removed]"
          },
          "metadata": {}
        }
      ]
    },
    {
      "cell_type": "markdown",
      "source": [
        "Desse modo, é possível observar que os resíduos tendem a se aproximar cada vez mais da normal."
      ],
      "metadata": {
        "id": "rPgRwgTHTVTV"
      }
    },
    {
      "cell_type": "markdown",
      "source": [
        "### Testes de hipótese para $\\beta_{0}$ e $\\beta_{1}$\n",
        "\n",
        "Para realizarmos nossos testes de hipóteses, é necessário o estimador do parâmetro $\\sigma^2$ do nosso modelo. Tal estimador não viesado é obtido através da soma do quadrado dos resíduos, definido pela variável QMres."
      ],
      "metadata": {
        "id": "32v3xwHpTYR9"
      }
    },
    {
      "cell_type": "markdown",
      "source": [
        "A partir disso, podemos prosseguir com nossos testes de hipóteses com decisão de rejeitar ou não H0, uma vez que este representa o parâmetro se igualar a 0 estatisticamente caso não seja rejeitado, descrevendo a significância da contribuição do mesmo."
      ],
      "metadata": {
        "id": "vGYzU5WdT4g0"
      }
    },
    {
      "cell_type": "code",
      "source": [
        "# Erro padrão de b1\n",
        "dp_b1 = np.sqrt(QMres / Sxx)\n",
        "\n",
        "# Valor-t de b1\n",
        "t0_b1 = b1_est / dp_b1"
      ],
      "metadata": {
        "id": "aymTjkm2Tx4N"
      },
      "execution_count": 24,
      "outputs": []
    },
    {
      "cell_type": "code",
      "source": [
        "# Nível de significância\n",
        "alpha = 0.05\n",
        "\n",
        "# Quantis t para o teste bicaudal\n",
        "t1 = stats.t.ppf(alpha / 2, n - 2)\n",
        "t2 = stats.t.ppf(1 - alpha / 2, n - 2)\n",
        "\n",
        "# Teste de hipótese\n",
        "if t0_b1 < t1 or t0_b1 > t2:\n",
        "    print(\"Rejeita-se H0\")\n",
        "else:\n",
        "    print(\"Não rejeita-se H0\")"
      ],
      "metadata": {
        "colab": {
          "base_uri": "https://localhost:8080/"
        },
        "id": "pebJ5e38VcAs",
        "outputId": "00624a37-71b3-401f-da91-7b400e5014ba"
      },
      "execution_count": 26,
      "outputs": [
        {
          "output_type": "stream",
          "name": "stdout",
          "text": [
            "Rejeita-se H0\n"
          ]
        }
      ]
    },
    {
      "cell_type": "markdown",
      "source": [
        "Como H0 é rejeitado, temos que $\\beta_1$ é diferente de zero."
      ],
      "metadata": {
        "id": "V7TItRCiWNnV"
      }
    },
    {
      "cell_type": "code",
      "source": [
        "dp_b0 = np.sqrt(QMres * ((1 / n) + (x_barra ** 2 / Sxx)))\n",
        "\n",
        "t0_b0 = b0_est / dp_b0\n",
        "\n",
        "print(\"dp_b0:\", dp_b0)\n",
        "print(\"t0_b0:\", t0_b0)"
      ],
      "metadata": {
        "colab": {
          "base_uri": "https://localhost:8080/"
        },
        "id": "vo4-4nWpWJ6k",
        "outputId": "bd952343-12a0-48b0-a52c-d7f1d4cceaa5"
      },
      "execution_count": 28,
      "outputs": [
        {
          "output_type": "stream",
          "name": "stdout",
          "text": [
            "dp_b0: 1.5553016099748649\n",
            "t0_b0: 21.560275946695324\n"
          ]
        }
      ]
    },
    {
      "cell_type": "code",
      "source": [
        "# Nível de significância\n",
        "alpha = 0.05\n",
        "\n",
        "# Quantis t para o teste bicaudal\n",
        "t1 = stats.t.ppf(alpha / 2, n - 2)\n",
        "t2 = stats.t.ppf(1 - alpha / 2, n - 2)\n",
        "\n",
        "# Teste de hipóteses\n",
        "if t0_b1 < t1 or t0_b1 > t2:\n",
        "    print(\"Rejeita-se H0\")\n",
        "else:\n",
        "    print(\"Não rejeita-se H0\")"
      ],
      "metadata": {
        "colab": {
          "base_uri": "https://localhost:8080/"
        },
        "id": "ZjgfWB8QXmDk",
        "outputId": "45918517-ded9-4de2-b07b-bfba2b91ebdd"
      },
      "execution_count": 79,
      "outputs": [
        {
          "output_type": "stream",
          "name": "stdout",
          "text": [
            "Rejeita-se H0\n"
          ]
        }
      ]
    },
    {
      "cell_type": "markdown",
      "source": [
        "Como H0 é rejeitado, temos que $\\beta_0$ é diferente de zero."
      ],
      "metadata": {
        "id": "pZ5FcV7tXsm9"
      }
    },
    {
      "cell_type": "markdown",
      "source": [
        "### Intervalos de Confiança para $(\\beta_0, \\beta_1, \\sigma^2)$ e $E(Y)$."
      ],
      "metadata": {
        "id": "_7cKpqiCX2ls"
      }
    },
    {
      "cell_type": "markdown",
      "source": [
        "IC para $\\beta_1$"
      ],
      "metadata": {
        "id": "SqHbtH9iNg87"
      }
    },
    {
      "cell_type": "code",
      "source": [
        "b1_min = b1_est - t2 * dp_b1\n",
        "\n",
        "b1_max = b1_est - t1 * dp_b1\n",
        "\n",
        "IC_b1_est = np.c_[b1_min, b1_max]\n",
        "\n",
        "print(IC_b1_est)"
      ],
      "metadata": {
        "colab": {
          "base_uri": "https://localhost:8080/"
        },
        "id": "B078LWFZXqO8",
        "outputId": "2e4c7854-2da2-48fd-ca04-60d15f1948e1"
      },
      "execution_count": 30,
      "outputs": [
        {
          "output_type": "stream",
          "name": "stdout",
          "text": [
            "[[-0.05703568 -0.03604695]]\n"
          ]
        }
      ]
    },
    {
      "cell_type": "markdown",
      "source": [
        "Cada incremento em polegada cúbica na cilindrada do motor aumenta o consumo em milhaspor litro em -0.057, com uma margem de erro de aproximadamente 0.036 para mais ou para menos."
      ],
      "metadata": {
        "id": "rGVenr1hYM9F"
      }
    },
    {
      "cell_type": "markdown",
      "source": [
        "IC para $\\beta_0$"
      ],
      "metadata": {
        "id": "v9gnHr9zNsib"
      }
    },
    {
      "cell_type": "code",
      "source": [
        "b0_min = b0_est - t2 * dp_b0\n",
        "\n",
        "b0_max = b0_est - t1 * dp_b0\n",
        "\n",
        "IC_b0_est = np.c_[b0_min, b0_max]\n",
        "\n",
        "print(IC_b0_est)"
      ],
      "metadata": {
        "colab": {
          "base_uri": "https://localhost:8080/"
        },
        "id": "pNjBZwcBYNb1",
        "outputId": "d19922f0-c923-47e7-80c4-dba2dd1367f8"
      },
      "execution_count": 31,
      "outputs": [
        {
          "output_type": "stream",
          "name": "stdout",
          "text": [
            "[[30.33576365 36.72970014]]\n"
          ]
        }
      ]
    },
    {
      "cell_type": "markdown",
      "source": [
        "IC para $\\sigma^2$"
      ],
      "metadata": {
        "id": "xRjLY4shYztU"
      }
    },
    {
      "cell_type": "code",
      "source": [
        "t1_sig = stats.chi2.ppf(alpha / 2, n - 2)\n",
        "t2_sig = stats.chi2.ppf(1 - alpha / 2, n - 2)\n",
        "\n",
        "sig_min = SQres / t2_sig\n",
        "\n",
        "sig_max = SQres / t1_sig\n",
        "\n",
        "IC_sig_est = np.c_[sig_min, sig_max]\n",
        "\n",
        "print(IC_sig_est)"
      ],
      "metadata": {
        "colab": {
          "base_uri": "https://localhost:8080/"
        },
        "id": "cH5VhztqY0S0",
        "outputId": "9561ab58-d1be-41fc-f2d6-93497cdf104e"
      },
      "execution_count": 32,
      "outputs": [
        {
          "output_type": "stream",
          "name": "stdout",
          "text": [
            "[[ 6.07991868 18.41167397]]\n"
          ]
        }
      ]
    },
    {
      "cell_type": "markdown",
      "source": [
        "Calculando intervalo de confiança para a esperança de y, ou seja, o valor médio da variável resposta para para um valor particular da covariável $\\mu(y|x_0).$\n",
        "Usaremos $X_0$ como sendo o proprio X."
      ],
      "metadata": {
        "id": "D7cLYl10Zuwt"
      }
    },
    {
      "cell_type": "code",
      "source": [
        "X0 = x_barra\n",
        "\n",
        "# Predição do valor médio para X0\n",
        "v_medio = y_barra + b1_est * (X0 - x_barra)\n",
        "\n",
        "# Erro padrão da predição\n",
        "auxiliar = np.sqrt(QMres * ((1 / n) + ((X0 - x_barra) / Sxx)))\n",
        "\n",
        "print(\"v_medio:\", v_medio)\n",
        "print(\"auxiliar:\", auxiliar)"
      ],
      "metadata": {
        "colab": {
          "base_uri": "https://localhost:8080/"
        },
        "id": "BqgC5P2dZvQ0",
        "outputId": "5f1c9d80-5919-4c92-e085-e9fd6cf2540b"
      },
      "execution_count": 34,
      "outputs": [
        {
          "output_type": "stream",
          "name": "stdout",
          "text": [
            "v_medio: 20.42071428571428\n",
            "auxiliar: 0.5917118315032626\n"
          ]
        }
      ]
    },
    {
      "cell_type": "code",
      "source": [
        "v_medio_min = v_medio - t2 * auxiliar\n",
        "\n",
        "v_medio_max = v_medio - t1 * auxiliar\n",
        "\n",
        "IC_v_medio = np.c_[v_medio_min, v_medio_max]\n",
        "\n",
        "print(IC_v_medio)"
      ],
      "metadata": {
        "colab": {
          "base_uri": "https://localhost:8080/"
        },
        "id": "M7V5dr7Jatvj",
        "outputId": "3371b417-4533-4910-ad9a-dbec81ff1a78"
      },
      "execution_count": 35,
      "outputs": [
        {
          "output_type": "stream",
          "name": "stdout",
          "text": [
            "[[19.2044332  21.63699537]]\n"
          ]
        }
      ]
    },
    {
      "cell_type": "markdown",
      "source": [
        "Calculando o intervalo de predição - em que 95% das vezes iria conter o verdadeiro valor predito considerando a nova informação de x1."
      ],
      "metadata": {
        "id": "v-mVe6OhT1jT"
      }
    },
    {
      "cell_type": "code",
      "source": [
        "Y0_est = b0_est + b1_est * X_test\n",
        "\n",
        "# Erro padrão da predição\n",
        "auxiliar_y0 = np.sqrt(QMres * ((1 + (1 / n) + ((X_test - x_barra) / Sxx))))"
      ],
      "metadata": {
        "id": "PP5tQ8nKa2Qs"
      },
      "execution_count": 80,
      "outputs": []
    },
    {
      "cell_type": "code",
      "source": [
        "Y0_est_min = Y0_est - t2 * auxiliar_y0\n",
        "\n",
        "Y0_est_max = Y0_est - t1 * auxiliar_y0\n",
        "\n",
        "IC_Y0_est = np.c_[Y0_est_min, Y0_est_max]"
      ],
      "metadata": {
        "id": "MI50T54yb2ek"
      },
      "execution_count": 81,
      "outputs": []
    },
    {
      "cell_type": "code",
      "source": [
        "IC_Y0_est = pd.DataFrame({\n",
        "    \"Y0_est_min\": Y0_est_min,\n",
        "    \"Y0_est_max\": Y0_est_max,\n",
        "    \"y\": y_test\n",
        "})\n",
        "\n",
        "\n",
        "print(IC_Y0_est.to_string())"
      ],
      "metadata": {
        "colab": {
          "base_uri": "https://localhost:8080/"
        },
        "id": "BL0fxm52cAYd",
        "outputId": "544a0985-e3f7-41ce-ddbc-c71524b445de"
      },
      "execution_count": 82,
      "outputs": [
        {
          "output_type": "stream",
          "name": "stdout",
          "text": [
            "    Y0_est_min  Y0_est_max      y\n",
            "29   10.646275   23.747188  13.27\n",
            "15   12.927211   26.027300  17.80\n",
            "24   20.468266   33.565631  29.40\n",
            "17    6.503350   19.605759  14.89\n"
          ]
        }
      ]
    },
    {
      "cell_type": "markdown",
      "source": [
        "Como podemos ver, o valor de y real estava dentro do intervalo para as quatro observações.\n"
      ],
      "metadata": {
        "id": "qemdbEJfctg8"
      }
    },
    {
      "cell_type": "markdown",
      "source": [
        "### Análise de Variâcia\n",
        "\n",
        "Testando a significancia da regressão através da Análise de Variância (ANOVA), nesse caso testariamos se $\\beta_1 = 0$.\n"
      ],
      "metadata": {
        "id": "_OZTC56Kcx3b"
      }
    },
    {
      "cell_type": "code",
      "source": [
        "print('Soma do quadrado da Regressão = ',SQreg)\n",
        "print('Soma do quadrado total = ',SQtotal)\n",
        "print('Soma do quadrado do resíduo = ',SQres)"
      ],
      "metadata": {
        "colab": {
          "base_uri": "https://localhost:8080/"
        },
        "id": "B2psMjxOcryb",
        "outputId": "ade8d003-fdfc-4162-c582-cd5f3f00e836"
      },
      "execution_count": 83,
      "outputs": [
        {
          "output_type": "stream",
          "name": "stdout",
          "text": [
            "Soma do quadrado da Regressão =  814.6867206724773\n",
            "Soma do quadrado total =  1069.5761857142857\n",
            "Soma do quadrado do resíduo =  254.8894650418083\n"
          ]
        }
      ]
    },
    {
      "cell_type": "code",
      "source": [
        "QMreg = SQreg\n",
        "\n",
        "F_0 = QMreg/QMres\n",
        "print(F_0)"
      ],
      "metadata": {
        "colab": {
          "base_uri": "https://localhost:8080/"
        },
        "id": "VYIRze2-dc87",
        "outputId": "4581bf44-6384-43e1-88f6-d42223e0c7c8"
      },
      "execution_count": 47,
      "outputs": [
        {
          "output_type": "stream",
          "name": "stdout",
          "text": [
            "83.10211932066338\n"
          ]
        }
      ]
    },
    {
      "cell_type": "markdown",
      "source": [
        "Quantil da Distribuição F-Snedecor"
      ],
      "metadata": {
        "id": "JVFyzSdsdvhz"
      }
    },
    {
      "cell_type": "code",
      "source": [
        "f1 = stats.f.sf(F_0, 1,n-2)\n",
        "\n",
        "print(\"f1:\", f1)\n",
        "\n",
        "if F_0 > f1:\n",
        "    print(\"Rejeita-se H0\")\n"
      ],
      "metadata": {
        "colab": {
          "base_uri": "https://localhost:8080/"
        },
        "id": "EjwWfszRdrYF",
        "outputId": "02de08b6-4bc9-45e9-babd-e1ca84bf6fa3"
      },
      "execution_count": 84,
      "outputs": [
        {
          "output_type": "stream",
          "name": "stdout",
          "text": [
            "f1: 1.404357066416546e-09\n",
            "Rejeita-se H0\n"
          ]
        }
      ]
    },
    {
      "cell_type": "markdown",
      "source": [
        "### Usando funções de módulos no Python para checagem dos coeficientes do nosso modelo."
      ],
      "metadata": {
        "id": "Wruv0a74fXFM"
      }
    },
    {
      "cell_type": "code",
      "source": [
        "import statsmodels.formula.api as smf\n",
        "\n",
        "fit = smf.ols('y ~ x1', data=dados).fit()\n",
        "\n",
        "\n",
        "print(fit.summary())"
      ],
      "metadata": {
        "colab": {
          "base_uri": "https://localhost:8080/"
        },
        "id": "ylcZcO6meiib",
        "outputId": "00382766-5764-400d-bbd1-7c6425d31df1"
      },
      "execution_count": 53,
      "outputs": [
        {
          "output_type": "stream",
          "name": "stdout",
          "text": [
            "                            OLS Regression Results                            \n",
            "==============================================================================\n",
            "Dep. Variable:                      y   R-squared:                       0.772\n",
            "Model:                            OLS   Adj. R-squared:                  0.765\n",
            "Method:                 Least Squares   F-statistic:                     101.7\n",
            "Date:                Tue, 09 Jan 2024   Prob (F-statistic):           3.74e-11\n",
            "Time:                        13:52:40   Log-Likelihood:                -80.215\n",
            "No. Observations:                  32   AIC:                             164.4\n",
            "Df Residuals:                      30   BIC:                             167.4\n",
            "Df Model:                           1                                         \n",
            "Covariance Type:            nonrobust                                         \n",
            "==============================================================================\n",
            "                 coef    std err          t      P>|t|      [0.025      0.975]\n",
            "------------------------------------------------------------------------------\n",
            "Intercept     33.7227      1.444     23.355      0.000      30.774      36.672\n",
            "x1            -0.0474      0.005    -10.086      0.000      -0.057      -0.038\n",
            "==============================================================================\n",
            "Omnibus:                        0.194   Durbin-Watson:                   1.677\n",
            "Prob(Omnibus):                  0.908   Jarque-Bera (JB):                0.135\n",
            "Skew:                           0.135   Prob(JB):                        0.935\n",
            "Kurtosis:                       2.831   Cond. No.                         820.\n",
            "==============================================================================\n",
            "\n",
            "Notes:\n",
            "[1] Standard Errors assume that the covariance matrix of the errors is correctly specified.\n"
          ]
        }
      ]
    },
    {
      "cell_type": "code",
      "source": [
        "from statsmodels.stats.anova import anova_lm\n",
        "\n",
        "# Perform the ANOVA\n",
        "anova = anova_lm(fit)\n",
        "\n",
        "print(anova)"
      ],
      "metadata": {
        "colab": {
          "base_uri": "https://localhost:8080/"
        },
        "id": "dQB9Hzt9f8qL",
        "outputId": "883c930b-a6cd-4f5a-8a63-b71d0a8e661d"
      },
      "execution_count": 55,
      "outputs": [
        {
          "output_type": "stream",
          "name": "stdout",
          "text": [
            "            df      sum_sq     mean_sq           F        PR(>F)\n",
            "x1         1.0  955.719710  955.719710  101.735668  3.743041e-11\n",
            "Residual  30.0  281.824378    9.394146         NaN           NaN\n"
          ]
        }
      ]
    },
    {
      "cell_type": "code",
      "source": [
        "from scipy.stats import shapiro\n",
        "residuals = fit.resid\n",
        "\n",
        "# Perform the Shapiro-Wilk test for normality\n",
        "shapiro_test_result = shapiro(residuals)\n",
        "\n",
        "# Print the test results\n",
        "print(shapiro_test_result)"
      ],
      "metadata": {
        "colab": {
          "base_uri": "https://localhost:8080/"
        },
        "id": "sdjgnIMYjaYS",
        "outputId": "aab28019-4f82-4bc0-b1a2-86bded44645a"
      },
      "execution_count": 57,
      "outputs": [
        {
          "output_type": "stream",
          "name": "stdout",
          "text": [
            "ShapiroResult(statistic=0.9871749877929688, pvalue=0.9610217213630676)\n"
          ]
        }
      ]
    },
    {
      "cell_type": "markdown",
      "source": [
        "A hipótese nula do Teste de Shapiro-Wilk é de que não há diferença entre a nossa distribuição dos dados\n",
        "e a distribuição normal. O valor-p maior do que 0.01 nos dá uma confiança estatística para afirmar que as\n",
        "distribuição dos nossos resíduos não difere da distribuição normal.\n",
        "Dessa forma, nossos dados satisfazem todas as premissas da ANOVA e, portanto, os resultados da nossa\n",
        "ANOVA são válidos, confirmando nossa premissa de que os resíduos possuem distribuição normal."
      ],
      "metadata": {
        "id": "i16SYtLsjx-s"
      }
    },
    {
      "cell_type": "markdown",
      "source": [
        "Usando o sklearn:"
      ],
      "metadata": {
        "id": "FLX_ozsoj4Mq"
      }
    },
    {
      "cell_type": "code",
      "source": [
        "from sklearn.model_selection import train_test_split\n",
        "\n",
        "y_skl = dados['y'].values.reshape(-1, 1)\n",
        "X_skl = dados['x1'].values.reshape(-1, 1)\n",
        "\n",
        "X_train_skl, X_test_skl, y_train_skl, y_test_skl = train_test_split(X_skl, y_skl, train_size=0.875,random_state = 42)\n",
        "\n"
      ],
      "metadata": {
        "id": "BskywxPulg-z"
      },
      "execution_count": 65,
      "outputs": []
    },
    {
      "cell_type": "code",
      "source": [
        "from sklearn.linear_model import LinearRegression\n",
        "import statsmodels.api as sm\n",
        "\n",
        "reg = LinearRegression()\n",
        "reg.fit(X_train_skl, y_train_skl)\n",
        "\n",
        "print(reg.score(X_test_skl, y_test_skl))"
      ],
      "metadata": {
        "colab": {
          "base_uri": "https://localhost:8080/"
        },
        "id": "hPPOwNsajz-T",
        "outputId": "88d65fc5-d32a-492b-8bdd-bcfc1622059d"
      },
      "execution_count": 66,
      "outputs": [
        {
          "output_type": "stream",
          "name": "stdout",
          "text": [
            "0.8286662816054582\n"
          ]
        }
      ]
    },
    {
      "cell_type": "code",
      "source": [
        "from sklearn.metrics import r2_score\n",
        "y_pred = reg.predict(X_test_skl)\n",
        "\n",
        "plt.scatter(X_test_skl, y_test_skl, color ='b')\n",
        "plt.plot(X_test_skl, y_pred, color ='k')\n",
        "\n",
        "plt.show()"
      ],
      "metadata": {
        "colab": {
          "base_uri": "https://localhost:8080/",
          "height": 436
        },
        "id": "hc4WJDdNmmRa",
        "outputId": "31f17401-70bc-48a3-8bfb-ae9bb18a1c84"
      },
      "execution_count": 71,
      "outputs": [
        {
          "output_type": "display_data",
          "data": {
            "text/plain": [
              "<Figure size 640x480 with 1 Axes>"
            ],
            "image/png": "[encoded data removed]"
          },
          "metadata": {}
        }
      ]
    },
    {
      "cell_type": "code",
      "source": [
        "from sklearn.metrics import mean_absolute_error, mean_squared_error\n",
        "\n",
        "mae = mean_absolute_error(y_test_skl, y_pred)\n",
        "mse = mean_squared_error(y_test_skl, y_pred)\n",
        "rmse = np.sqrt(mse)\n",
        "\n",
        "print(f'Mean absolute error: {mae:.2f}')\n",
        "print(f'Mean squared error: {mse:.2f}')\n",
        "print(f'Root mean squared error: {rmse:.2f}')"
      ],
      "metadata": {
        "colab": {
          "base_uri": "https://localhost:8080/"
        },
        "id": "bVvF2n9Lp-9C",
        "outputId": "70fd79a8-0f98-4cc8-8bad-d6a2c0e481a8"
      },
      "execution_count": 72,
      "outputs": [
        {
          "output_type": "stream",
          "name": "stdout",
          "text": [
            "Mean absolute error: 2.46\n",
            "Mean squared error: 6.82\n",
            "Root mean squared error: 2.61\n"
          ]
        }
      ]
    }
  ]
}